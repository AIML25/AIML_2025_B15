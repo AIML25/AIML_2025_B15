{
  "nbformat": 4,
  "nbformat_minor": 0,
  "metadata": {
    "colab": {
      "provenance": [],
      "authorship_tag": "ABX9TyNuJRYrxFxlJSan/g2XOwvE",
      "include_colab_link": true
    },
    "kernelspec": {
      "name": "python3",
      "display_name": "Python 3"
    },
    "language_info": {
      "name": "python"
    }
  },
  "cells": [
    {
      "cell_type": "markdown",
      "metadata": {
        "id": "view-in-github",
        "colab_type": "text"
      },
      "source": [
        "<a href=\"https://colab.research.google.com/github/AIML25/AIML_2025_B15/blob/main/Untitled1.ipynb\" target=\"_parent\"><img src=\"https://colab.research.google.com/assets/colab-badge.svg\" alt=\"Open In Colab\"/></a>"
      ]
    },
    {
      "cell_type": "code",
      "source": [
        "from queue import queue\n",
        "\n",
        "graph = {0: [1,2,3],\n",
        "         1:[0,2],\n",
        "                  2:[1,3,5],\n",
        "                           3:[0,2,4],\n",
        "                                    4:[3,5,7],\n",
        "                                             5:[2,4,6,,7],\n",
        "                                                      6:[5,7],\n",
        "                                                               7:[]}\n",
        "\n",
        "                                                                print(\"The adjacency list repersenting the graph is:\")\n",
        "                                                                 print(graph)\n",
        "\n",
        "\n",
        "                                                                  def bfs(graph, source):\n",
        "                                                                       q = queue()\n",
        "                                                                            visited_vertices = set()\n",
        "                                                                                 q.put(source)\n",
        "                                                                                      visited_vertices.updated({source}]\n",
        "                                                                                           while not q.empty():\n",
        "                                                                                                    vertex = q.get()\n",
        "                                                                                                             print(vertex, end=\"-->\")\n",
        "                                                                                                                      for u in graph [vertex]:\n",
        "                                                                                                                                  if u not in visited_vertices:\n",
        "                                                                                                                                                  q.put(u)\n",
        "                                                                                                                                                                  visited_vertices.update({u})\n",
        ""
      ],
      "metadata": {
        "id": "-1M8y-QX5Lv4"
      },
      "execution_count": null,
      "outputs": []
    }
  ]
}