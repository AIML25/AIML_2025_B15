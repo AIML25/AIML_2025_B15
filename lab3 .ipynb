{
  "nbformat": 4,
  "nbformat_minor": 0,
  "metadata": {
    "colab": {
      "provenance": [],
      "authorship_tag": "ABX9TyM7D9HxnP34DM3WTmWf9ym+",
      "include_colab_link": true
    },
    "kernelspec": {
      "name": "python3",
      "display_name": "Python 3"
    },
    "language_info": {
      "name": "python"
    }
  },
  "cells": [
    {
      "cell_type": "markdown",
      "metadata": {
        "id": "view-in-github",
        "colab_type": "text"
      },
      "source": [
        "<a href=\"https://colab.research.google.com/github/AIML25/AIML_2025_B15/blob/main/lab3%20.ipynb\" target=\"_parent\"><img src=\"https://colab.research.google.com/assets/colab-badge.svg\" alt=\"Open In Colab\"/></a>"
      ]
    },
    {
      "cell_type": "code",
      "source": [
        "from collections import namedtuple,Counter,defaultdict\n",
        "import random\n",
        "import math\n",
        "import functools\n",
        "cache = functools.lru_cache(10**6)\n",
        "class Game:\n",
        "  def action(self, state):\n",
        "      raise NotImplementedError\n",
        "  def result(self, state, move):\n",
        "      raise NotImplementedError\n",
        "  def is_terminal(self,state):\n",
        "      return not self.actions(state)\n",
        "  def utility(self, state, player):\n",
        "      raise NotImplementedError\n",
        "  def play_game(game,strategies: dict, verbose=False):\n",
        "           state = game.initial\n",
        "           while not game.is_terminal(state):\n",
        "             player = state.to_move\n",
        "             move = strategies[player](game, state)\n",
        "             state = game.result(state, move)\n",
        "             if verbose:\n",
        "               print('Player', player, 'move:', move)\n",
        "               print(state)\n",
        "               return state"
      ],
      "metadata": {
        "id": "v6fpbh1s__xC"
      },
      "execution_count": 33,
      "outputs": []
    },
    {
      "cell_type": "code",
      "source": [
        "def minimax_search(game, state):\n",
        "      player = state.to_move\n",
        "      def max_value(state):\n",
        "        if game.is_terminal(state):\n",
        "            return game.utility(state, player), None\n",
        "        v, move = -infinity, None\n",
        "        for a in game.actions(state):\n",
        "            v2, _ = min_value(game.result(state, a))\n",
        "            if v2 > v:\n",
        "              v, move = v2, a\n",
        "            return v, move\n",
        "        def min_value(state):\n",
        "            if game.is_terminal(state):\n",
        "                return game.utility(state, player), None\n",
        "            v, move = +infinity, None\n",
        "            for a in game.actions(state):\n",
        "                v2, _ = max_value(game.result(state, a))\n",
        "                if v2 < v:\n",
        "                   v, move = v2, a\n",
        "            return v, move\n",
        "            return max_value(state)\n",
        "            infinity = math.inf\n",
        "            def alphabeta_search(game, state):\n",
        "                player = state.to_move\n",
        "                def max_value(state, alpha, beta):\n",
        "                    if game.is_terminal(state):\n",
        "                        return game.utility(state, player), None\n",
        "                    v, move = -infinity, None\n",
        "                    for a in game.actions(state):\n",
        "                        v2, _ = min_value(game.result(state, a), alpha, beta)\n",
        "                        if v2 > v:\n",
        "                            v, move = v2, a\n",
        "                            alpha = max(alpha, v)\n",
        "                        if v >= beta:\n",
        "                            return v, move\n",
        "                            return v, move\n",
        "                        def min_value(state, alpha, beta):\n",
        "                            if game.is_terminal(state):\n",
        "                                return game.utility(state, player), None\n",
        "                            v, move = +infinity, None\n",
        "                            for a in game.actions(state):\n",
        "                                v2, _ = max_value(game.result(state, a), alpha, beta)\n",
        "                                if v2 < v:\n",
        "                                    v, move = v2, a\n",
        "                                    beta = min(beta, v)\n",
        "                                if v <= alpha:\n",
        "                                     return v, move\n",
        "                            return v, move\n",
        "                        return max_value(state, -infinity, +infinity)"
      ],
      "metadata": {
        "id": "SwF0VzpHA0nz"
      },
      "execution_count": 34,
      "outputs": []
    },
    {
      "cell_type": "code",
      "source": [
        "class TicTacToe(Game):\n",
        "      def __init__(self, height=3, width=3, k=3):\n",
        "              self.k = k # k in a row\n",
        "              self.squares = {(x, y) for x in range(width) for y in range(height)}\n",
        "              self.initial = Board(height=height, width=width, to_move='X', utility=0)\n",
        "      def actions(self, board):\n",
        "          return self.squares - set(board)\n",
        "      def result(self, board, square):\n",
        "          player = board.to_move\n",
        "          board = board.new({square: player}, to_move=('O' if player == 'X' else 'X'))\n",
        "          win = k_in_row(board, player, square, self.k)\n",
        "          board.utility = (0 if not win else +1 if player == 'X' else -1)\n",
        "          return board\n",
        "      def utility(self, board, player):\n",
        "          return board.utility if player == 'X' else -board.utility\n",
        "      def is_terminal(self, board):\n",
        "          return board.utility != 0 or len(self.squares) == len(board)\n",
        "      def display(self, board): print(board)\n",
        "def k_in_row(board, player, square, k):\n",
        "    def in_row(x, y, dx, dy): return 0 if board[x, y] != player else 1 + in_row(x + dx, y + dy, dx, dy)\n",
        "    return any(in_row(*square, dx, dy) + in_row(*square, -dx, -dy)-1>=k\n",
        "               for (dx, dy) in ((0, 1), (1, 0), (1, 1), (1, -1)))\n",
        "    class Board(defaultdict):\n",
        "          empty = '.'\n",
        "          off = '#'\n",
        "          def __init__(self, width=8, height=8, to_move=None, **kwds):\n",
        "             self.__dict__.update(width=width, height=height, to_move=to_move, **kwds)\n",
        "\n",
        "          def new(self, changes: dict, **kwds) -> 'Board':\n",
        "              board = Board(width=self.width, height=self.height, **kwds)\n",
        "              board.update(self)\n",
        "              board.update(changes)\n",
        "              return board\n",
        "          def __missing__(self, loc):\n",
        "             x, y = loc\n",
        "             if 0 <= x < self.width and 0 <= y < self.height:\n",
        "                 return self.empty\n",
        "             else:\n",
        "                 return self.off\n",
        "          def __hash__(self):\n",
        "              return hash(tuple(sorted(self.items()))) + hash(self.to_move)\n",
        "          def __repr__(self):\n",
        "              def row(y): return ' '.join(self[x, y] for x in range(self.width))\n",
        "              return '\\n'.join(map(row, range(self.height))) +  '\\n'\n",
        "def random_player(game, state): return random.choice(list(game.actions(state)))\n",
        "def player(search_algorithm):\n",
        "    return lambda game, state: search_algorithm(game, state)[1]\n",
        "    play_game(TicTacToe(), dict(X=random_player, O=player(alphabeta_search)), verbose=True).utility"
      ],
      "metadata": {
        "id": "DHBBHIunCsJm"
      },
      "execution_count": 35,
      "outputs": []
    },
    {
      "cell_type": "code",
      "source": [
        "play_game(TicTacToe(), dict(X=random_player, O=player(alphabeta_search)), verbose=True).utility\n"
      ],
      "metadata": {
        "colab": {
          "base_uri": "https://localhost:8080/",
          "height": 141
        },
        "id": "wVcWRFrOFH-f",
        "outputId": "1827b74b-a00a-44bf-8616-fbbb161a54ce"
      },
      "execution_count": 36,
      "outputs": [
        {
          "output_type": "error",
          "ename": "NameError",
          "evalue": "name 'alphabeta_search' is not defined",
          "traceback": [
            "\u001b[0;31m---------------------------------------------------------------------------\u001b[0m",
            "\u001b[0;31mNameError\u001b[0m                                 Traceback (most recent call last)",
            "\u001b[0;32m<ipython-input-36-4c992a02cc18>\u001b[0m in \u001b[0;36m<cell line: 1>\u001b[0;34m()\u001b[0m\n\u001b[0;32m----> 1\u001b[0;31m \u001b[0mplay_game\u001b[0m\u001b[0;34m(\u001b[0m\u001b[0mTicTacToe\u001b[0m\u001b[0;34m(\u001b[0m\u001b[0;34m)\u001b[0m\u001b[0;34m,\u001b[0m \u001b[0mdict\u001b[0m\u001b[0;34m(\u001b[0m\u001b[0mX\u001b[0m\u001b[0;34m=\u001b[0m\u001b[0mrandom_player\u001b[0m\u001b[0;34m,\u001b[0m \u001b[0mO\u001b[0m\u001b[0;34m=\u001b[0m\u001b[0mplayer\u001b[0m\u001b[0;34m(\u001b[0m\u001b[0malphabeta_search\u001b[0m\u001b[0;34m)\u001b[0m\u001b[0;34m)\u001b[0m\u001b[0;34m,\u001b[0m \u001b[0mverbose\u001b[0m\u001b[0;34m=\u001b[0m\u001b[0;32mTrue\u001b[0m\u001b[0;34m)\u001b[0m\u001b[0;34m.\u001b[0m\u001b[0mutility\u001b[0m\u001b[0;34m\u001b[0m\u001b[0;34m\u001b[0m\u001b[0m\n\u001b[0m",
            "\u001b[0;31mNameError\u001b[0m: name 'alphabeta_search' is not defined"
          ]
        }
      ]
    }
  ]
}