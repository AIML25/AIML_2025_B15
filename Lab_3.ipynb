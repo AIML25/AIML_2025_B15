{
  "nbformat": 4,
  "nbformat_minor": 0,
  "metadata": {
    "colab": {
      "provenance": [],
      "authorship_tag": "ABX9TyNMYQg6YROOoSa57RpHq9eq",
      "include_colab_link": true
    },
    "kernelspec": {
      "name": "python3",
      "display_name": "Python 3"
    },
    "language_info": {
      "name": "python"
    }
  },
  "cells": [
    {
      "cell_type": "markdown",
      "metadata": {
        "id": "view-in-github",
        "colab_type": "text"
      },
      "source": [
        "<a href=\"https://colab.research.google.com/github/AIML25/AIML_2025_B15/blob/main/Lab_3.ipynb\" target=\"_parent\"><img src=\"https://colab.research.google.com/assets/colab-badge.svg\" alt=\"Open In Colab\"/></a>"
      ]
    },
    {
      "cell_type": "code",
      "execution_count": 6,
      "metadata": {
        "id": "VDJ-hb9z0qGw"
      },
      "outputs": [],
      "source": [
        "from collections import namedtuple,Counter,defaultdict\n",
        "import random\n",
        "import math\n",
        "import functools\n",
        "cache=functools.lru_cache(10**6)"
      ]
    },
    {
      "cell_type": "code",
      "source": [
        "class Game:\n",
        "  def actions (self,state):\n",
        "    raise NotImplementedError\n",
        "  def result(self,state,move):\n",
        "    raise NotImplementedError\n",
        "  def is_terminal(self,state):\n",
        "    raise not self.actions(state)\n",
        "  def utility(self,state,player):\n",
        "    raise NotImplementedError\n"
      ],
      "metadata": {
        "id": "CR8HYSxv4Z5e"
      },
      "execution_count": 7,
      "outputs": []
    },
    {
      "cell_type": "code",
      "source": [
        "def play_game(game,strategies: dict,verbose=False):\n",
        "  state=game.intial\n",
        "  while not game.is_terminal(state):\n",
        "    players=state.to_move\n",
        "    move=strategies[player](game,state)\n",
        "    state=game.result(state,move)\n",
        "    if verbose:\n",
        "      print('player',player,'move:',move)\n",
        "      print(state)\n",
        "    return state"
      ],
      "metadata": {
        "id": "6eFqsHz25jgx"
      },
      "execution_count": 29,
      "outputs": []
    },
    {
      "cell_type": "code",
      "source": [
        "def minimax_search (game , state ):\n",
        "  player = state.to_move\n",
        "  def max_value (state ):\n",
        "    if game. is_terminal(state ):\n",
        "      return game.utility(state , player), None\n",
        "    v, move = -infinity , None\n",
        "    for a in game.actions(state ):\n",
        "      v2 , _ = min_value(game.result(state , a))\n",
        "      if v2 > v:\n",
        "        v, move = v2 , a\n",
        "        return v, move\n",
        "  def min_value (state ):\n",
        "    if game.is_terminal (state ):\n",
        "      return game.utility(state , player), None\n",
        "    v, move = +infinity , None\n",
        "    for a in game.actions(state ):\n",
        "      v2 , = max_value (game.result(state , a))\n",
        "      if v2 < v:\n",
        "        v, move = v2 , a\n",
        "        return v, move\n",
        "      return max_value (state)\n",
        "  infinity = math.inf"
      ],
      "metadata": {
        "id": "ZKtWjQTY7Ig4"
      },
      "execution_count": 31,
      "outputs": []
    },
    {
      "cell_type": "code",
      "source": [
        "def alphabeta_search (game , state ):\n",
        "player = state.to_move\n",
        "\n",
        "\n",
        "def max_value (state , alpha , beta ):\n",
        " if game.is_terminal(state):\n",
        "  return game.utility(state , player),None\n",
        "v, move =_infinity , None\n",
        "for a in game.actions(state):\n",
        " v2, _ = min_value(game.result(state , a), alpha , beta)\n",
        "if v2 > v:i\n",
        "v, move = v2, a\n",
        "alpha = max(alpha, v)\n",
        "if v >=beta :\n",
        "return v, move\n",
        "return v, move\n",
        "\n",
        "\n",
        "def min_value (state , alpha , beta ):\n",
        " if game. is_terminal (state ):\n",
        "  return game.utility(state , player), None\n",
        "v, move = +infinity , None\n",
        "for a in game.actions(state ):\n",
        " v2,_= max_value (game.result(state , a), alpha , beta)\n",
        "if v2 < v:\n",
        " v, move = v2 , a\n",
        "beta = min(beta , v)\n",
        "if v <= alpha:\n",
        "return v, move\n",
        "return v, move\n",
        "return max_value (state , -infinity, +infinity)"
      ],
      "metadata": {
        "colab": {
          "base_uri": "https://localhost:8080/",
          "height": 106
        },
        "id": "Ds8PHx8__Mk0",
        "outputId": "c3c5da99-25f7-4b21-ab4e-44dd6bd76339"
      },
      "execution_count": 35,
      "outputs": [
        {
          "output_type": "error",
          "ename": "IndentationError",
          "evalue": "expected an indented block after function definition on line 1 (<ipython-input-35-95d641c7ae2e>, line 2)",
          "traceback": [
            "\u001b[0;36m  File \u001b[0;32m\"<ipython-input-35-95d641c7ae2e>\"\u001b[0;36m, line \u001b[0;32m2\u001b[0m\n\u001b[0;31m    player = state.to_move\u001b[0m\n\u001b[0m    ^\u001b[0m\n\u001b[0;31mIndentationError\u001b[0m\u001b[0;31m:\u001b[0m expected an indented block after function definition on line 1\n"
          ]
        }
      ]
    }
  ]
}